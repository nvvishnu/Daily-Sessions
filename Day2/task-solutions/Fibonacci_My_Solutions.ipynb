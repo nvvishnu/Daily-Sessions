{
 "cells": [
  {
   "cell_type": "code",
   "execution_count": 9,
   "metadata": {},
   "outputs": [
    {
     "name": "stdout",
     "output_type": "stream",
     "text": [
      "Enter number of lines5\n",
      "5\n"
     ]
    }
   ],
   "source": [
    "n=int(input(\"Enter number of lines\"))\n",
    "print(n)"
   ]
  },
  {
   "cell_type": "code",
   "execution_count": 21,
   "metadata": {},
   "outputs": [
    {
     "name": "stdout",
     "output_type": "stream",
     "text": [
      "1\n",
      "1 2\n",
      "3 5 8\n",
      "13 21 34 55\n",
      "89 144 233 377 610\n"
     ]
    }
   ],
   "source": [
    "a=[1,1]\n",
    "upp=int(n*(n+1)/2)\n",
    "for i in range(2,upp):\n",
    "    a.append(a[i-1]+a[i-2])\n",
    "j=0\n",
    "for i in range(1,n+1):\n",
    "    print(*a[j:i+j],sep=\" \")\n",
    "    j+=i  \n"
   ]
  }
 ],
 "metadata": {
  "kernelspec": {
   "display_name": "Python 3",
   "language": "python",
   "name": "python3"
  },
  "language_info": {
   "codemirror_mode": {
    "name": "ipython",
    "version": 3
   },
   "file_extension": ".py",
   "mimetype": "text/x-python",
   "name": "python",
   "nbconvert_exporter": "python",
   "pygments_lexer": "ipython3",
   "version": "3.7.6"
  }
 },
 "nbformat": 4,
 "nbformat_minor": 4
}
