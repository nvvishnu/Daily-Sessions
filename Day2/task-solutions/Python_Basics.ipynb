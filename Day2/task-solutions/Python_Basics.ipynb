{
 "cells": [
  {
   "cell_type": "code",
   "execution_count": 1,
   "metadata": {},
   "outputs": [
    {
     "name": "stdout",
     "output_type": "stream",
     "text": [
      "Hello World\n"
     ]
    }
   ],
   "source": [
    "print('Hello World')"
   ]
  },
  {
   "cell_type": "code",
   "execution_count": 5,
   "metadata": {},
   "outputs": [
    {
     "name": "stdout",
     "output_type": "stream",
     "text": [
      "<class 'complex'>\n",
      "<class 'int'>\n",
      "<class 'str'>\n"
     ]
    }
   ],
   "source": [
    "x,y = 20,30\n",
    "a = b = c = 1\n",
    "d=2+3j\n",
    "name = \"CFI\"\n",
    "print(type(d))\n",
    "print(type(x))\n",
    "print(type(name))"
   ]
  },
  {
   "cell_type": "code",
   "execution_count": 7,
   "metadata": {},
   "outputs": [
    {
     "name": "stdout",
     "output_type": "stream",
     "text": [
      "a is greater than 3\n",
      "b is less than 3\n"
     ]
    }
   ],
   "source": [
    "a,b,c = 4,1,2\n",
    "\n",
    "\n",
    "if a>3:\n",
    "    print(\"a is greater than 3\")\n",
    "\n",
    "\n",
    "if b<3:\n",
    "    print(\"b is less than 3\")\n",
    "else:\n",
    "    print(\"b is not less than 3\")\n"
   ]
  },
  {
   "cell_type": "code",
   "execution_count": 10,
   "metadata": {},
   "outputs": [
    {
     "name": "stdout",
     "output_type": "stream",
     "text": [
      "0\n",
      "1\n",
      "2\n",
      "3\n",
      "4\n",
      "5\n",
      "6\n",
      "7\n",
      "8\n",
      "9\n"
     ]
    }
   ],
   "source": [
    "for i in range(10):\n",
    "    print(i)\n"
   ]
  },
  {
   "cell_type": "code",
   "execution_count": 8,
   "metadata": {},
   "outputs": [
    {
     "name": "stdout",
     "output_type": "stream",
     "text": [
      "0 1\n",
      "0 2\n",
      "0 3\n",
      "0 4\n",
      "0 5\n",
      "0 6\n",
      "0 7\n",
      "0 8\n",
      "0 9\n",
      "2 1\n",
      "2 2\n",
      "2 3\n",
      "2 4\n",
      "2 5\n",
      "2 6\n",
      "2 7\n",
      "2 8\n",
      "2 9\n",
      "4 1\n",
      "4 2\n",
      "4 3\n",
      "4 4\n",
      "4 5\n",
      "4 6\n",
      "4 7\n",
      "4 8\n",
      "4 9\n",
      "6 1\n",
      "6 2\n",
      "6 3\n",
      "6 4\n",
      "6 5\n",
      "6 6\n",
      "6 7\n",
      "6 8\n",
      "6 9\n",
      "8 1\n",
      "8 2\n",
      "8 3\n",
      "8 4\n",
      "8 5\n",
      "8 6\n",
      "8 7\n",
      "8 8\n",
      "8 9\n",
      "10 1\n",
      "10 2\n",
      "10 3\n",
      "10 4\n",
      "10 5\n",
      "10 6\n",
      "10 7\n",
      "10 8\n",
      "10 9\n",
      "12 1\n",
      "12 2\n",
      "12 3\n",
      "12 4\n",
      "12 5\n",
      "12 6\n",
      "12 7\n",
      "12 8\n",
      "12 9\n",
      "14 1\n",
      "14 2\n",
      "14 3\n",
      "14 4\n",
      "14 5\n",
      "14 6\n",
      "14 7\n",
      "14 8\n",
      "14 9\n",
      "16 1\n",
      "16 2\n",
      "16 3\n",
      "16 4\n",
      "16 5\n",
      "16 6\n",
      "16 7\n",
      "16 8\n",
      "16 9\n",
      "18 1\n",
      "18 2\n",
      "18 3\n",
      "18 4\n",
      "18 5\n",
      "18 6\n",
      "18 7\n",
      "18 8\n",
      "18 9\n",
      "0\n",
      "4\n",
      "5\n",
      "10\n"
     ]
    }
   ],
   "source": [
    "for i in range(0,20,2):\n",
    "    for j in range(1,10,1):\n",
    "        print(i,j)\n",
    "\n",
    "points = [0,4,5,10]\n",
    "for i in points:\n",
    "    print(i)"
   ]
  },
  {
   "cell_type": "code",
   "execution_count": 14,
   "metadata": {},
   "outputs": [
    {
     "name": "stdout",
     "output_type": "stream",
     "text": [
      "pen \t--> penpen\n",
      "apple \t--> appleapple\n",
      "pineapple pen \t--> pineapple penpineapple pen\n",
      "5 \t--> 10\n",
      "67.89 \t--> 135.78\n",
      "200000.0 \t--> 400000.0\n"
     ]
    }
   ],
   "source": [
    "ppap = ['pen', 'apple']\n",
    "\n",
    "#add elements to list\n",
    "ppap.append('pineapple pen')\n",
    "ppap.append(5)\n",
    "ppap.append(67.89)\n",
    "ppap.append(2e5)\n",
    "\n",
    "#get length of the list\n",
    "len(ppap)\n",
    "\n",
    "#loop over a list\n",
    "for i in ppap:\n",
    "    print(i, '\\t-->', i*2)\n",
    "\n"
   ]
  },
  {
   "cell_type": "code",
   "execution_count": 19,
   "metadata": {},
   "outputs": [
    {
     "name": "stdout",
     "output_type": "stream",
     "text": [
      "2\n",
      "['A', 'C', 'C', 'A', 'G', 'C', 'C', 'G', 'C', 'T', 'T', 'A']\n",
      "ell\n"
     ]
    }
   ],
   "source": [
    "a = ['A' ,'C', 'C', 'G', 'C', 'C', 'G', 'C', 'T', 'T' ,'A']\n",
    "print(a.count('G'))\n",
    "a.insert(3,'A')\n",
    "print(a)\n",
    "print(\"hello\"[1:4])"
   ]
  },
  {
   "cell_type": "code",
   "execution_count": 22,
   "metadata": {},
   "outputs": [
    {
     "name": "stdout",
     "output_type": "stream",
     "text": [
      "Kira will know a person’s name on seeing their face if he has the eyes of the Shinigami.\n"
     ]
    }
   ],
   "source": [
    "owner = \"Kira\"\n",
    "req = [\"name\", \"face\"] ; best =3\n",
    "print( f\"{owner} will know a person’s {req[0]} on seeing their {req[1]} if he has the eyes of the Shinigami.\")"
   ]
  },
  {
   "cell_type": "code",
   "execution_count": 31,
   "metadata": {},
   "outputs": [
    {
     "name": "stdout",
     "output_type": "stream",
     "text": [
      "o\n",
      "True\n"
     ]
    }
   ],
   "source": [
    "print(\"helpo\"[::-5])\n",
    "print(\"e\" in \"hello\")"
   ]
  },
  {
   "cell_type": "code",
   "execution_count": null,
   "metadata": {},
   "outputs": [],
   "source": []
  }
 ],
 "metadata": {
  "kernelspec": {
   "display_name": "Python 3",
   "language": "python",
   "name": "python3"
  },
  "language_info": {
   "codemirror_mode": {
    "name": "ipython",
    "version": 3
   },
   "file_extension": ".py",
   "mimetype": "text/x-python",
   "name": "python",
   "nbconvert_exporter": "python",
   "pygments_lexer": "ipython3",
   "version": "3.7.6"
  }
 },
 "nbformat": 4,
 "nbformat_minor": 4
}
